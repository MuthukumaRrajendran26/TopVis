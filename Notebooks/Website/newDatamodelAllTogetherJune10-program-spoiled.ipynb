version https://git-lfs.github.com/spec/v1
oid sha256:2ecb10034baa0165eab0bc92a6ee95bb1995a29a4097e467d48a377ec5c35e30
size 2470655
